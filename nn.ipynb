{
 "cells": [
  {
   "cell_type": "code",
   "execution_count": null,
   "metadata": {},
   "outputs": [],
   "source": [
    "#导入数据\n",
    "import torch\n",
    "import torch.nn as nn\n",
    "from torchvision import transforms,datasets\n",
    "from torch.utils.data import DataLoader\n",
    "import torch.optim as optim\n",
    "import torch.nn.functional as F\n",
    "batch_size = 64\n",
    "transform = transforms.Compose([transforms.ToTensor(),transforms.Normalize((0.1307,),(0.3081,))])\n",
    "train_dataset = datasets.MNIST(root='./data',train=True,download=True,transform=transform)\n",
    "train_loader = DataLoader(train_dataset,shuffle=True,batch_size=batch_size)\n",
    "test_dataset = datasets.MNIST(root='../dataset/mnist',train=False,download=True,transform=transform)\n",
    "test_loader = DataLoader(test_dataset,shuffle=False,batch_size=batch_size)"
   ]
  },
  {
   "cell_type": "code",
   "execution_count": null,
   "metadata": {},
   "outputs": [],
   "source": [
    "# 设计模型\n",
    "class Net(torch.nn.Module):\n",
    "    def __init__(self):\n",
    "        super(Net, self).__init__()\n",
    "        self.l1 = torch.nn.Linear(784, 512)\n",
    "        self.l2 = torch.nn.Linear(512, 256)\n",
    "        self.l3 = torch.nn.Linear(256, 128)\n",
    "        self.l4 = torch.nn.Linear(128, 64)\n",
    "        self.l5 = torch.nn.Linear(64, 10)\n",
    " \n",
    "    def forward(self, x):\n",
    "        x = x.view(-1, 784)\n",
    "        x = F.relu(self.l1(x))\n",
    "        x = F.relu(self.l2(x))\n",
    "        x = F.relu(self.l3(x))\n",
    "        x = F.relu(self.l4(x))\n",
    "        return self.l5(x)\n",
    " \n",
    " \n",
    "model = Net()"
   ]
  },
  {
   "cell_type": "code",
   "execution_count": null,
   "metadata": {},
   "outputs": [],
   "source": [
    "# 构建损失函数和优化器\n",
    "criterion = torch.nn.CrossEntropyLoss()\n",
    "optimizer = optim.SGD(model.parameters(), lr=0.01, momentum=0.5)"
   ]
  },
  {
   "cell_type": "code",
   "execution_count": null,
   "metadata": {},
   "outputs": [],
   "source": [
    "\n",
    "# 定义训练函数\n",
    "def train(epoch):\n",
    "    running_loss = 0.0\n",
    "    for batch_idx, data in enumerate(train_loader, 0):\n",
    "        inputs, target = data\n",
    "        optimizer.zero_grad()\n",
    "        # 前馈+反馈+更新\n",
    "        outputs = model(inputs)\n",
    "        loss = criterion(outputs, target)\n",
    "        loss.backward()\n",
    "        optimizer.step()\n",
    " \n",
    "        running_loss += loss.item()\n",
    "        if batch_idx % 300 == 299:\n",
    "            print('[%d,%5d] loss:%.3f' % (epoch + 1, batch_idx + 1, running_loss / 300))\n",
    "            running_loss = 0.0\n",
    " \n",
    " \n",
    "# 定义测试函数\n",
    "def test():\n",
    "    correct = 0\n",
    "    total = 0\n",
    "    with torch.no_grad():\n",
    "        for data in test_loader:\n",
    "            images, labels = data\n",
    "            outputs = model(images)\n",
    "            _, predicted = torch.max(outputs.data, dim=1)\n",
    "            total += labels.size(0)\n",
    "            correct += (predicted == labels).sum().item()\n",
    "    print('Accuracy on test set:%d %%' % (100 * correct / total))"
   ]
  },
  {
   "cell_type": "code",
   "execution_count": null,
   "metadata": {},
   "outputs": [
    {
     "name": "stdout",
     "output_type": "stream",
     "text": [
      "[1,  300] loss:2.222\n",
      "[1,  600] loss:0.962\n",
      "[1,  900] loss:0.431\n",
      "Accuracy on test set:89 %\n",
      "[2,  300] loss:0.323\n",
      "[2,  600] loss:0.266\n",
      "[2,  900] loss:0.226\n",
      "Accuracy on test set:94 %\n",
      "[3,  300] loss:0.190\n",
      "[3,  600] loss:0.167\n",
      "[3,  900] loss:0.158\n",
      "Accuracy on test set:95 %\n",
      "[4,  300] loss:0.130\n",
      "[4,  600] loss:0.124\n",
      "[4,  900] loss:0.116\n",
      "Accuracy on test set:96 %\n",
      "[5,  300] loss:0.097\n",
      "[5,  600] loss:0.092\n",
      "[5,  900] loss:0.094\n",
      "Accuracy on test set:97 %\n",
      "[6,  300] loss:0.082\n",
      "[6,  600] loss:0.073\n",
      "[6,  900] loss:0.073\n",
      "Accuracy on test set:96 %\n",
      "[7,  300] loss:0.055\n",
      "[7,  600] loss:0.068\n",
      "[7,  900] loss:0.061\n",
      "Accuracy on test set:97 %\n",
      "[8,  300] loss:0.050\n",
      "[8,  600] loss:0.048\n",
      "[8,  900] loss:0.054\n",
      "Accuracy on test set:97 %\n",
      "[9,  300] loss:0.038\n",
      "[9,  600] loss:0.043\n",
      "[9,  900] loss:0.039\n",
      "Accuracy on test set:97 %\n",
      "[10,  300] loss:0.032\n",
      "[10,  600] loss:0.035\n",
      "[10,  900] loss:0.035\n",
      "Accuracy on test set:97 %\n"
     ]
    }
   ],
   "source": [
    "for i in range(10):\n",
    "    train(i)\n",
    "    test()"
   ]
  }
 ],
 "metadata": {
  "interpreter": {
   "hash": "6d7befbe19dabf55358e230b2e4e605f5650963414e89326b84d88476091d5f5"
  },
  "kernelspec": {
   "display_name": "Python 3.8.12 ('newpytorch')",
   "language": "python",
   "name": "python3"
  },
  "language_info": {
   "codemirror_mode": {
    "name": "ipython",
    "version": 3
   },
   "file_extension": ".py",
   "mimetype": "text/x-python",
   "name": "python",
   "nbconvert_exporter": "python",
   "pygments_lexer": "ipython3",
   "version": "3.8.12"
  },
  "orig_nbformat": 4
 },
 "nbformat": 4,
 "nbformat_minor": 2
}
