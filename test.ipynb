{
 "cells": [
  {
   "cell_type": "code",
   "execution_count": 6,
   "metadata": {},
   "outputs": [
    {
     "name": "stdout",
     "output_type": "stream",
     "text": [
      "4\n",
      "5\n",
      "6\n",
      "[[4, 56, 6], [4, 8, 6]]\n",
      "[[4, 5, 66], [4, 7, 6]]\n",
      "[1, 3]\n",
      "\n"
     ]
    }
   ],
   "source": [
    "data = [[1,2,3],[4,5,6]]\n",
    "test = [[[1,2,3],[1,2,3]],[[4,5,66],[4,7,6]],[[4,56,6],[4,8,6]],[[4,77,6],[4,88,6]],[[121,888,123],[55,56,67]]];\n",
    "t = (test[ss][0][1] for ss in data[0:2][0])\n",
    "for ss in data[0:2][1]:\n",
    "    print(ss)\n",
    "\n",
    "print(test[0::2][1])\n",
    "print(test[0:2][1])\n",
    "print(data[0][0::2])\n",
    "print()\n",
    "# print(t)\n",
    "# print(t.__next__())\n",
    "# print(t.__next__())\n",
    "# print(t.__next__())"
   ]
  }
 ],
 "metadata": {
  "interpreter": {
   "hash": "6d7befbe19dabf55358e230b2e4e605f5650963414e89326b84d88476091d5f5"
  },
  "kernelspec": {
   "display_name": "Python 3.8.12 ('newpytorch')",
   "language": "python",
   "name": "python3"
  },
  "language_info": {
   "codemirror_mode": {
    "name": "ipython",
    "version": 3
   },
   "file_extension": ".py",
   "mimetype": "text/x-python",
   "name": "python",
   "nbconvert_exporter": "python",
   "pygments_lexer": "ipython3",
   "version": "3.8.12"
  },
  "orig_nbformat": 4
 },
 "nbformat": 4,
 "nbformat_minor": 2
}
