{
 "cells": [
  {
   "cell_type": "code",
   "execution_count": 2,
   "metadata": {},
   "outputs": [],
   "source": [
    "import torch\n",
    "import torchvision\n",
    "from torch.utils.data import DataLoader\n",
    "import torchvision.datasets as dsets \n",
    "import torchvision.transforms as transforms"
   ]
  },
  {
   "cell_type": "code",
   "execution_count": 13,
   "metadata": {},
   "outputs": [
    {
     "name": "stdout",
     "output_type": "stream",
     "text": [
      "torch.Size([60000, 28, 28])\n",
      "torch.Size([60000])\n"
     ]
    },
    {
     "data": {
      "text/plain": [
       "(tensor([[[0, 0, 0,  ..., 0, 0, 0],\n",
       "          [0, 0, 0,  ..., 0, 0, 0],\n",
       "          [0, 0, 0,  ..., 0, 0, 0],\n",
       "          ...,\n",
       "          [0, 0, 0,  ..., 0, 0, 0],\n",
       "          [0, 0, 0,  ..., 0, 0, 0],\n",
       "          [0, 0, 0,  ..., 0, 0, 0]],\n",
       " \n",
       "         [[0, 0, 0,  ..., 0, 0, 0],\n",
       "          [0, 0, 0,  ..., 0, 0, 0],\n",
       "          [0, 0, 0,  ..., 0, 0, 0],\n",
       "          ...,\n",
       "          [0, 0, 0,  ..., 0, 0, 0],\n",
       "          [0, 0, 0,  ..., 0, 0, 0],\n",
       "          [0, 0, 0,  ..., 0, 0, 0]],\n",
       " \n",
       "         [[0, 0, 0,  ..., 0, 0, 0],\n",
       "          [0, 0, 0,  ..., 0, 0, 0],\n",
       "          [0, 0, 0,  ..., 0, 0, 0],\n",
       "          ...,\n",
       "          [0, 0, 0,  ..., 0, 0, 0],\n",
       "          [0, 0, 0,  ..., 0, 0, 0],\n",
       "          [0, 0, 0,  ..., 0, 0, 0]],\n",
       " \n",
       "         ...,\n",
       " \n",
       "         [[0, 0, 0,  ..., 0, 0, 0],\n",
       "          [0, 0, 0,  ..., 0, 0, 0],\n",
       "          [0, 0, 0,  ..., 0, 0, 0],\n",
       "          ...,\n",
       "          [0, 0, 0,  ..., 0, 0, 0],\n",
       "          [0, 0, 0,  ..., 0, 0, 0],\n",
       "          [0, 0, 0,  ..., 0, 0, 0]],\n",
       " \n",
       "         [[0, 0, 0,  ..., 0, 0, 0],\n",
       "          [0, 0, 0,  ..., 0, 0, 0],\n",
       "          [0, 0, 0,  ..., 0, 0, 0],\n",
       "          ...,\n",
       "          [0, 0, 0,  ..., 0, 0, 0],\n",
       "          [0, 0, 0,  ..., 0, 0, 0],\n",
       "          [0, 0, 0,  ..., 0, 0, 0]],\n",
       " \n",
       "         [[0, 0, 0,  ..., 0, 0, 0],\n",
       "          [0, 0, 0,  ..., 0, 0, 0],\n",
       "          [0, 0, 0,  ..., 0, 0, 0],\n",
       "          ...,\n",
       "          [0, 0, 0,  ..., 0, 0, 0],\n",
       "          [0, 0, 0,  ..., 0, 0, 0],\n",
       "          [0, 0, 0,  ..., 0, 0, 0]]], dtype=torch.uint8),\n",
       " tensor([5, 0, 4,  ..., 5, 6, 8]))"
      ]
     },
     "execution_count": 13,
     "metadata": {},
     "output_type": "execute_result"
    }
   ],
   "source": [
    "\n",
    "def create_dataset(n_samples=1000):\n",
    "\n",
    "\n",
    "    batch_size = 100\n",
    "    # MNIST dataset\n",
    "    train_dataset = dsets.MNIST(root='./dataset', train=True, transform=transforms.ToTensor(), download=True)\n",
    "    test_dataset = dsets.MNIST(root='./dataset', train=False, transform=transforms.ToTensor(), download=True)\n",
    "    # load_data\n",
    "    train_loader = DataLoader(dataset=train_dataset, batch_size=batch_size, shuffle=True)\n",
    "    test_loader = DataLoader(dataset=test_dataset, batch_size=batch_size, shuffle=True)\n",
    "    x = train_loader.dataset.data\n",
    "    y = train_loader.dataset.targets\n",
    "    print(x.shape)\n",
    "    print(y.shape)\n",
    "    return x,y\n",
    "    # 合并数据x,y\n",
    "\n",
    "create_dataset()\n"
   ]
  },
  {
   "cell_type": "code",
   "execution_count": 8,
   "metadata": {},
   "outputs": [],
   "source": [
    "import torch\n",
    "import torch.nn as nn\n",
    "\n",
    "class svm(nn.Modules):\n",
    "    def __init__():\n"
   ]
  },
  {
   "cell_type": "code",
   "execution_count": 14,
   "metadata": {},
   "outputs": [
    {
     "name": "stdout",
     "output_type": "stream",
     "text": [
      "torch.Size([60000, 28, 28])\n",
      "torch.Size([60000])\n",
      "torch.Size([60000, 28, 28])\n"
     ]
    },
    {
     "ename": "ValueError",
     "evalue": "too many values to unpack (expected 2)",
     "output_type": "error",
     "traceback": [
      "\u001b[1;31m---------------------------------------------------------------------------\u001b[0m",
      "\u001b[1;31mValueError\u001b[0m                                Traceback (most recent call last)",
      "\u001b[1;32md:\\Projects\\PythonProject\\MLhomework\\SVM.ipynb Cell 4'\u001b[0m in \u001b[0;36m<cell line: 4>\u001b[1;34m()\u001b[0m\n\u001b[0;32m      <a href='vscode-notebook-cell:/d%3A/Projects/PythonProject/MLhomework/SVM.ipynb#ch0000003?line=1'>2</a>\u001b[0m \u001b[39mprint\u001b[39m(X\u001b[39m.\u001b[39mshape)\n\u001b[0;32m      <a href='vscode-notebook-cell:/d%3A/Projects/PythonProject/MLhomework/SVM.ipynb#ch0000003?line=2'>3</a>\u001b[0m model \u001b[39m=\u001b[39m svm(max_iter\u001b[39m=\u001b[39m\u001b[39m100\u001b[39m, kernel\u001b[39m=\u001b[39m\u001b[39m'\u001b[39m\u001b[39mlinear\u001b[39m\u001b[39m'\u001b[39m)\n\u001b[1;32m----> <a href='vscode-notebook-cell:/d%3A/Projects/PythonProject/MLhomework/SVM.ipynb#ch0000003?line=3'>4</a>\u001b[0m model\u001b[39m.\u001b[39;49mfit(X[:\u001b[39m800\u001b[39;49m], Y[:\u001b[39m800\u001b[39;49m])\n\u001b[0;32m      <a href='vscode-notebook-cell:/d%3A/Projects/PythonProject/MLhomework/SVM.ipynb#ch0000003?line=4'>5</a>\u001b[0m model\u001b[39m.\u001b[39mscore(X[\u001b[39m800\u001b[39m:], Y[\u001b[39m800\u001b[39m:])\n",
      "\u001b[1;32md:\\Projects\\PythonProject\\MLhomework\\SVM.ipynb Cell 3'\u001b[0m in \u001b[0;36msvm.fit\u001b[1;34m(self, features, labels)\u001b[0m\n\u001b[0;32m     <a href='vscode-notebook-cell:/d%3A/Projects/PythonProject/MLhomework/SVM.ipynb#ch0000002?line=81'>82</a>\u001b[0m \u001b[39mdef\u001b[39;00m \u001b[39mfit\u001b[39m(\u001b[39mself\u001b[39m, features, labels):\n\u001b[1;32m---> <a href='vscode-notebook-cell:/d%3A/Projects/PythonProject/MLhomework/SVM.ipynb#ch0000002?line=82'>83</a>\u001b[0m     \u001b[39mself\u001b[39;49m\u001b[39m.\u001b[39;49minit_args(features, labels)\n\u001b[0;32m     <a href='vscode-notebook-cell:/d%3A/Projects/PythonProject/MLhomework/SVM.ipynb#ch0000002?line=83'>84</a>\u001b[0m     \u001b[39mfor\u001b[39;00m t \u001b[39min\u001b[39;00m \u001b[39mrange\u001b[39m(\u001b[39mself\u001b[39m\u001b[39m.\u001b[39mmax_iter):\n\u001b[0;32m     <a href='vscode-notebook-cell:/d%3A/Projects/PythonProject/MLhomework/SVM.ipynb#ch0000002?line=84'>85</a>\u001b[0m         i1, i2 \u001b[39m=\u001b[39m \u001b[39mself\u001b[39m\u001b[39m.\u001b[39m_init_alpha()\n",
      "\u001b[1;32md:\\Projects\\PythonProject\\MLhomework\\SVM.ipynb Cell 3'\u001b[0m in \u001b[0;36msvm.init_args\u001b[1;34m(self, features, labels)\u001b[0m\n\u001b[0;32m      <a href='vscode-notebook-cell:/d%3A/Projects/PythonProject/MLhomework/SVM.ipynb#ch0000002?line=8'>9</a>\u001b[0m \u001b[39mdef\u001b[39;00m \u001b[39minit_args\u001b[39m(\u001b[39mself\u001b[39m, features, labels):\n\u001b[1;32m---> <a href='vscode-notebook-cell:/d%3A/Projects/PythonProject/MLhomework/SVM.ipynb#ch0000002?line=9'>10</a>\u001b[0m     \u001b[39mself\u001b[39m\u001b[39m.\u001b[39mm, \u001b[39mself\u001b[39m\u001b[39m.\u001b[39mn \u001b[39m=\u001b[39m features\u001b[39m.\u001b[39mshape\n\u001b[0;32m     <a href='vscode-notebook-cell:/d%3A/Projects/PythonProject/MLhomework/SVM.ipynb#ch0000002?line=10'>11</a>\u001b[0m     \u001b[39mself\u001b[39m\u001b[39m.\u001b[39mX \u001b[39m=\u001b[39m features\n\u001b[0;32m     <a href='vscode-notebook-cell:/d%3A/Projects/PythonProject/MLhomework/SVM.ipynb#ch0000002?line=11'>12</a>\u001b[0m     \u001b[39mself\u001b[39m\u001b[39m.\u001b[39mY \u001b[39m=\u001b[39m labels\n",
      "\u001b[1;31mValueError\u001b[0m: too many values to unpack (expected 2)"
     ]
    }
   ],
   "source": []
  }
 ],
 "metadata": {
  "interpreter": {
   "hash": "b6affd21aac2404e729b1941e103b489e06ba7559f343b6d405b6300433f7d4a"
  },
  "kernelspec": {
   "display_name": "Python 3.8.12 ('newpytorch')",
   "language": "python",
   "name": "python3"
  },
  "language_info": {
   "codemirror_mode": {
    "name": "ipython",
    "version": 3
   },
   "file_extension": ".py",
   "mimetype": "text/x-python",
   "name": "python",
   "nbconvert_exporter": "python",
   "pygments_lexer": "ipython3",
   "version": "3.8.12"
  },
  "orig_nbformat": 4
 },
 "nbformat": 4,
 "nbformat_minor": 2
}
